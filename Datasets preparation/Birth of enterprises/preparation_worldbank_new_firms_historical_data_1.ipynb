{
 "cells": [
  {
   "cell_type": "code",
   "execution_count": 1,
   "metadata": {},
   "outputs": [],
   "source": [
    "import pandas as pd\n",
    "import numpy as np\n",
    "import pycountry"
   ]
  },
  {
   "cell_type": "code",
   "execution_count": 2,
   "metadata": {},
   "outputs": [],
   "source": [
    "df = pd.read_excel('raw_worldbank_new_firms_historical_data_1.xlsx')"
   ]
  },
  {
   "cell_type": "code",
   "execution_count": 3,
   "metadata": {},
   "outputs": [],
   "source": [
    "iso3_mapping = {country.name: country.alpha_3 for country in pycountry.countries}"
   ]
  },
  {
   "cell_type": "code",
   "execution_count": 4,
   "metadata": {},
   "outputs": [],
   "source": [
    "df['ISO_code_alpha3'] = df['Economy'].map(iso3_mapping)"
   ]
  },
  {
   "cell_type": "code",
   "execution_count": 5,
   "metadata": {},
   "outputs": [
    {
     "data": {
      "text/plain": [
       "array(['Antigua and Barbuda*', 'Bahrain*', 'Barbados*', 'Belize*',\n",
       "       'Bolivia', 'Brazil ', 'Canada**', 'China***', 'Congo, Dem. Rep.',\n",
       "       'Cook Islands*', 'Czech Republic', 'Dominica*', 'Egypt, Arab Rep.',\n",
       "       'Grenada*', 'Hong Kong SAR, China*', 'Iran, Islamic Rep.',\n",
       "       'Isle of Man*', 'Kosovo', 'Kyrgyz Republic', 'Lao PDR', 'Liberia*',\n",
       "       'Liechtenstein*', 'Mauritius*', 'Micronesia, Fed. Sts.',\n",
       "       'Netherlands Antilles', 'Panama*', 'Philippines*',\n",
       "       'São Tomé and Príncipe', 'Seychelles*', 'Singapore*',\n",
       "       'Slovak Republic', 'St. Lucia*', 'St. Vincent and the Grenadines*',\n",
       "       'Taiwan, China', 'Tanzania', 'Vanuatu*', 'Vietnam'], dtype=object)"
      ]
     },
     "execution_count": 5,
     "metadata": {},
     "output_type": "execute_result"
    }
   ],
   "source": [
    "df[df['ISO_code_alpha3'].isna()==True]['Economy'].unique()"
   ]
  },
  {
   "cell_type": "code",
   "execution_count": 6,
   "metadata": {},
   "outputs": [
    {
     "name": "stderr",
     "output_type": "stream",
     "text": [
      "C:\\Users\\dcast\\AppData\\Local\\Temp\\ipykernel_17116\\1441906330.py:1: FutureWarning: The default value of regex will change from True to False in a future version. In addition, single character regular expressions will *not* be treated as literal strings when regex=True.\n",
      "  df['Economy'] = df['Economy'].str.replace('*', '')\n"
     ]
    }
   ],
   "source": [
    "df['Economy'] = df['Economy'].str.replace('*', '')"
   ]
  },
  {
   "cell_type": "code",
   "execution_count": 7,
   "metadata": {},
   "outputs": [],
   "source": [
    "df['ISO_code_alpha3'] = df['Economy'].map(iso3_mapping)"
   ]
  },
  {
   "cell_type": "code",
   "execution_count": 8,
   "metadata": {},
   "outputs": [
    {
     "data": {
      "text/plain": [
       "array(['Bolivia', 'Brazil ', 'Congo, Dem. Rep.', 'Czech Republic',\n",
       "       'Egypt, Arab Rep.', 'Hong Kong SAR, China', 'Iran, Islamic Rep.',\n",
       "       'Kosovo', 'Kyrgyz Republic', 'Lao PDR', 'Micronesia, Fed. Sts.',\n",
       "       'Netherlands Antilles', 'São Tomé and Príncipe', 'Slovak Republic',\n",
       "       'St. Lucia', 'St. Vincent and the Grenadines', 'Taiwan, China',\n",
       "       'Tanzania', 'Vietnam'], dtype=object)"
      ]
     },
     "execution_count": 8,
     "metadata": {},
     "output_type": "execute_result"
    }
   ],
   "source": [
    "df[df['ISO_code_alpha3'].isna()==True]['Economy'].unique()"
   ]
  },
  {
   "cell_type": "code",
   "execution_count": 9,
   "metadata": {},
   "outputs": [
    {
     "name": "stdout",
     "output_type": "stream",
     "text": [
      "['Aruba', 'Afghanistan', 'Angola', 'Anguilla', 'Åland Islands', 'Albania', 'Andorra', 'United Arab Emirates', 'Argentina', 'Armenia', 'American Samoa', 'Antarctica', 'French Southern Territories', 'Antigua and Barbuda', 'Australia', 'Austria', 'Azerbaijan', 'Burundi', 'Belgium', 'Benin', 'Bonaire, Sint Eustatius and Saba', 'Burkina Faso', 'Bangladesh', 'Bulgaria', 'Bahrain', 'Bahamas', 'Bosnia and Herzegovina', 'Saint Barthélemy', 'Belarus', 'Belize', 'Bermuda', 'Bolivia, Plurinational State of', 'Brazil', 'Barbados', 'Brunei Darussalam', 'Bhutan', 'Bouvet Island', 'Botswana', 'Central African Republic', 'Canada', 'Cocos (Keeling) Islands', 'Switzerland', 'Chile', 'China', \"Côte d'Ivoire\", 'Cameroon', 'Congo, The Democratic Republic of the', 'Congo', 'Cook Islands', 'Colombia', 'Comoros', 'Cabo Verde', 'Costa Rica', 'Cuba', 'Curaçao', 'Christmas Island', 'Cayman Islands', 'Cyprus', 'Czechia', 'Germany', 'Djibouti', 'Dominica', 'Denmark', 'Dominican Republic', 'Algeria', 'Ecuador', 'Egypt', 'Eritrea', 'Western Sahara', 'Spain', 'Estonia', 'Ethiopia', 'Finland', 'Fiji', 'Falkland Islands (Malvinas)', 'France', 'Faroe Islands', 'Micronesia, Federated States of', 'Gabon', 'United Kingdom', 'Georgia', 'Guernsey', 'Ghana', 'Gibraltar', 'Guinea', 'Guadeloupe', 'Gambia', 'Guinea-Bissau', 'Equatorial Guinea', 'Greece', 'Grenada', 'Greenland', 'Guatemala', 'French Guiana', 'Guam', 'Guyana', 'Hong Kong', 'Heard Island and McDonald Islands', 'Honduras', 'Croatia', 'Haiti', 'Hungary', 'Indonesia', 'Isle of Man', 'India', 'British Indian Ocean Territory', 'Ireland', 'Iran, Islamic Republic of', 'Iraq', 'Iceland', 'Israel', 'Italy', 'Jamaica', 'Jersey', 'Jordan', 'Japan', 'Kazakhstan', 'Kenya', 'Kyrgyzstan', 'Cambodia', 'Kiribati', 'Saint Kitts and Nevis', 'Korea, Republic of', 'Kuwait', \"Lao People's Democratic Republic\", 'Lebanon', 'Liberia', 'Libya', 'Saint Lucia', 'Liechtenstein', 'Sri Lanka', 'Lesotho', 'Lithuania', 'Luxembourg', 'Latvia', 'Macao', 'Saint Martin (French part)', 'Morocco', 'Monaco', 'Moldova, Republic of', 'Madagascar', 'Maldives', 'Mexico', 'Marshall Islands', 'North Macedonia', 'Mali', 'Malta', 'Myanmar', 'Montenegro', 'Mongolia', 'Northern Mariana Islands', 'Mozambique', 'Mauritania', 'Montserrat', 'Martinique', 'Mauritius', 'Malawi', 'Malaysia', 'Mayotte', 'Namibia', 'New Caledonia', 'Niger', 'Norfolk Island', 'Nigeria', 'Nicaragua', 'Niue', 'Netherlands', 'Norway', 'Nepal', 'Nauru', 'New Zealand', 'Oman', 'Pakistan', 'Panama', 'Pitcairn', 'Peru', 'Philippines', 'Palau', 'Papua New Guinea', 'Poland', 'Puerto Rico', \"Korea, Democratic People's Republic of\", 'Portugal', 'Paraguay', 'Palestine, State of', 'French Polynesia', 'Qatar', 'Réunion', 'Romania', 'Russian Federation', 'Rwanda', 'Saudi Arabia', 'Sudan', 'Senegal', 'Singapore', 'South Georgia and the South Sandwich Islands', 'Saint Helena, Ascension and Tristan da Cunha', 'Svalbard and Jan Mayen', 'Solomon Islands', 'Sierra Leone', 'El Salvador', 'San Marino', 'Somalia', 'Saint Pierre and Miquelon', 'Serbia', 'South Sudan', 'Sao Tome and Principe', 'Suriname', 'Slovakia', 'Slovenia', 'Sweden', 'Eswatini', 'Sint Maarten (Dutch part)', 'Seychelles', 'Syrian Arab Republic', 'Turks and Caicos Islands', 'Chad', 'Togo', 'Thailand', 'Tajikistan', 'Tokelau', 'Turkmenistan', 'Timor-Leste', 'Tonga', 'Trinidad and Tobago', 'Tunisia', 'Turkey', 'Tuvalu', 'Taiwan, Province of China', 'Tanzania, United Republic of', 'Uganda', 'Ukraine', 'United States Minor Outlying Islands', 'Uruguay', 'United States', 'Uzbekistan', 'Holy See (Vatican City State)', 'Saint Vincent and the Grenadines', 'Venezuela, Bolivarian Republic of', 'Virgin Islands, British', 'Virgin Islands, U.S.', 'Viet Nam', 'Vanuatu', 'Wallis and Futuna', 'Samoa', 'Yemen', 'South Africa', 'Zambia', 'Zimbabwe']\n"
     ]
    }
   ],
   "source": [
    "country_names = [country.name for country in pycountry.countries]\n",
    "print(country_names)"
   ]
  },
  {
   "cell_type": "code",
   "execution_count": 10,
   "metadata": {},
   "outputs": [],
   "source": [
    "map2 = {'Bolivia': 'Bolivia, Plurinational State of',\n",
    "'Brazil ': 'Brazil',\n",
    "'Congo, Dem. Rep.': 'Congo, The Democratic Republic of the',\n",
    "'Czech Republic': 'Czechia',\n",
    "'Egypt, Arab Rep.': 'Egypt',\n",
    "'Hong Kong SAR, China': 'Hong Kong',\n",
    "'Iran, Islamic Rep.': 'Iran, Islamic Republic of',\n",
    "'Kyrgyz Republic': 'Kyrgyzstan',\n",
    "'Lao PDR': \"Lao People's Democratic Republic\",\n",
    "'Micronesia, Fed. Sts.': 'Micronesia, Federated States of',\n",
    "'São Tomé and Príncipe': 'Sao Tome and Principe',\n",
    "'Slovak Republic': 'Slovakia',\n",
    "'St. Lucia': 'Saint Lucia',\n",
    "'St. Vincent and the Grenadines': 'Saint Vincent and the Grenadines',\n",
    "'Taiwan, China': 'Taiwan, Province of China',\n",
    "'Tanzania': 'Tanzania, United Republic of',\n",
    "'Vietnam': 'Viet Nam'}"
   ]
  },
  {
   "cell_type": "code",
   "execution_count": 11,
   "metadata": {},
   "outputs": [],
   "source": [
    "df['Economy'] = np.where(df['Economy'].isin(map2.keys()), df['Economy'].map(map2), df['Economy'])"
   ]
  },
  {
   "cell_type": "code",
   "execution_count": 12,
   "metadata": {},
   "outputs": [],
   "source": [
    "df['ISO_code_alpha3'] = df['Economy'].map(iso3_mapping)"
   ]
  },
  {
   "cell_type": "code",
   "execution_count": 13,
   "metadata": {},
   "outputs": [
    {
     "data": {
      "text/plain": [
       "array(['Kosovo', 'Netherlands Antilles'], dtype=object)"
      ]
     },
     "execution_count": 13,
     "metadata": {},
     "output_type": "execute_result"
    }
   ],
   "source": [
    "df[df['ISO_code_alpha3'].isna()==True]['Economy'].unique()"
   ]
  },
  {
   "cell_type": "code",
   "execution_count": 14,
   "metadata": {},
   "outputs": [
    {
     "data": {
      "text/html": [
       "<div>\n",
       "<style scoped>\n",
       "    .dataframe tbody tr th:only-of-type {\n",
       "        vertical-align: middle;\n",
       "    }\n",
       "\n",
       "    .dataframe tbody tr th {\n",
       "        vertical-align: top;\n",
       "    }\n",
       "\n",
       "    .dataframe thead th {\n",
       "        text-align: right;\n",
       "    }\n",
       "</style>\n",
       "<table border=\"1\" class=\"dataframe\">\n",
       "  <thead>\n",
       "    <tr style=\"text-align: right;\">\n",
       "      <th></th>\n",
       "      <th>Economy</th>\n",
       "      <th>Adult population</th>\n",
       "      <th>Year</th>\n",
       "      <th>Number of NEW\\nLimited Liability Companies</th>\n",
       "      <th>New business density rate</th>\n",
       "      <th>ISO_code_alpha3</th>\n",
       "    </tr>\n",
       "  </thead>\n",
       "  <tbody>\n",
       "    <tr>\n",
       "      <th>885</th>\n",
       "      <td>Kosovo</td>\n",
       "      <td>1214796.0</td>\n",
       "      <td>2006</td>\n",
       "      <td>767</td>\n",
       "      <td>0.631382</td>\n",
       "      <td>NaN</td>\n",
       "    </tr>\n",
       "    <tr>\n",
       "      <th>886</th>\n",
       "      <td>Kosovo</td>\n",
       "      <td>1214796.0</td>\n",
       "      <td>2007</td>\n",
       "      <td>858</td>\n",
       "      <td>0.706291</td>\n",
       "      <td>NaN</td>\n",
       "    </tr>\n",
       "    <tr>\n",
       "      <th>887</th>\n",
       "      <td>Kosovo</td>\n",
       "      <td>1214796.0</td>\n",
       "      <td>2008</td>\n",
       "      <td>876</td>\n",
       "      <td>0.721109</td>\n",
       "      <td>NaN</td>\n",
       "    </tr>\n",
       "    <tr>\n",
       "      <th>888</th>\n",
       "      <td>Kosovo</td>\n",
       "      <td>1214796.0</td>\n",
       "      <td>2009</td>\n",
       "      <td>858</td>\n",
       "      <td>0.706291</td>\n",
       "      <td>NaN</td>\n",
       "    </tr>\n",
       "    <tr>\n",
       "      <th>889</th>\n",
       "      <td>Kosovo</td>\n",
       "      <td>1214796.0</td>\n",
       "      <td>2010</td>\n",
       "      <td>971</td>\n",
       "      <td>0.799311</td>\n",
       "      <td>NaN</td>\n",
       "    </tr>\n",
       "    <tr>\n",
       "      <th>890</th>\n",
       "      <td>Kosovo</td>\n",
       "      <td>1214796.0</td>\n",
       "      <td>2011</td>\n",
       "      <td>1106</td>\n",
       "      <td>0.910441</td>\n",
       "      <td>NaN</td>\n",
       "    </tr>\n",
       "    <tr>\n",
       "      <th>891</th>\n",
       "      <td>Kosovo</td>\n",
       "      <td>1214796.0</td>\n",
       "      <td>2012</td>\n",
       "      <td>1466</td>\n",
       "      <td>1.206787</td>\n",
       "      <td>NaN</td>\n",
       "    </tr>\n",
       "    <tr>\n",
       "      <th>892</th>\n",
       "      <td>Kosovo</td>\n",
       "      <td>1214796.0</td>\n",
       "      <td>2013</td>\n",
       "      <td>1970</td>\n",
       "      <td>1.621671</td>\n",
       "      <td>NaN</td>\n",
       "    </tr>\n",
       "    <tr>\n",
       "      <th>893</th>\n",
       "      <td>Kosovo</td>\n",
       "      <td>1214796.0</td>\n",
       "      <td>2014</td>\n",
       "      <td>2117</td>\n",
       "      <td>1.742679</td>\n",
       "      <td>NaN</td>\n",
       "    </tr>\n",
       "    <tr>\n",
       "      <th>894</th>\n",
       "      <td>Kosovo</td>\n",
       "      <td>1214796.0</td>\n",
       "      <td>2015</td>\n",
       "      <td>2539</td>\n",
       "      <td>2.090063</td>\n",
       "      <td>NaN</td>\n",
       "    </tr>\n",
       "    <tr>\n",
       "      <th>895</th>\n",
       "      <td>Kosovo</td>\n",
       "      <td>1225209.0</td>\n",
       "      <td>2016</td>\n",
       "      <td>3978</td>\n",
       "      <td>3.246793</td>\n",
       "      <td>NaN</td>\n",
       "    </tr>\n",
       "    <tr>\n",
       "      <th>896</th>\n",
       "      <td>Kosovo</td>\n",
       "      <td>1184646.0</td>\n",
       "      <td>2017</td>\n",
       "      <td>4656</td>\n",
       "      <td>3.930288</td>\n",
       "      <td>NaN</td>\n",
       "    </tr>\n",
       "    <tr>\n",
       "      <th>897</th>\n",
       "      <td>Kosovo</td>\n",
       "      <td>1338581.0</td>\n",
       "      <td>2018</td>\n",
       "      <td>5366</td>\n",
       "      <td>4.008723</td>\n",
       "      <td>NaN</td>\n",
       "    </tr>\n",
       "    <tr>\n",
       "      <th>898</th>\n",
       "      <td>Kosovo</td>\n",
       "      <td>1338581.0</td>\n",
       "      <td>2019</td>\n",
       "      <td>5586</td>\n",
       "      <td>4.173076</td>\n",
       "      <td>NaN</td>\n",
       "    </tr>\n",
       "    <tr>\n",
       "      <th>899</th>\n",
       "      <td>Kosovo</td>\n",
       "      <td>1222104.0</td>\n",
       "      <td>2020</td>\n",
       "      <td>5768</td>\n",
       "      <td>4.719729</td>\n",
       "      <td>NaN</td>\n",
       "    </tr>\n",
       "    <tr>\n",
       "      <th>1217</th>\n",
       "      <td>Netherlands Antilles</td>\n",
       "      <td>149358.0</td>\n",
       "      <td>2006</td>\n",
       "      <td>1297</td>\n",
       "      <td>8.683833</td>\n",
       "      <td>NaN</td>\n",
       "    </tr>\n",
       "    <tr>\n",
       "      <th>1218</th>\n",
       "      <td>Netherlands Antilles</td>\n",
       "      <td>150708.0</td>\n",
       "      <td>2007</td>\n",
       "      <td>1418</td>\n",
       "      <td>9.408923</td>\n",
       "      <td>NaN</td>\n",
       "    </tr>\n",
       "    <tr>\n",
       "      <th>1219</th>\n",
       "      <td>Netherlands Antilles</td>\n",
       "      <td>152161.0</td>\n",
       "      <td>2008</td>\n",
       "      <td>1535</td>\n",
       "      <td>10.087999</td>\n",
       "      <td>NaN</td>\n",
       "    </tr>\n",
       "    <tr>\n",
       "      <th>1220</th>\n",
       "      <td>Netherlands Antilles</td>\n",
       "      <td>153617.0</td>\n",
       "      <td>2009</td>\n",
       "      <td>1227</td>\n",
       "      <td>7.987397</td>\n",
       "      <td>NaN</td>\n",
       "    </tr>\n",
       "    <tr>\n",
       "      <th>1221</th>\n",
       "      <td>Netherlands Antilles</td>\n",
       "      <td>154723.0</td>\n",
       "      <td>2010</td>\n",
       "      <td>1342</td>\n",
       "      <td>8.673565</td>\n",
       "      <td>NaN</td>\n",
       "    </tr>\n",
       "    <tr>\n",
       "      <th>1222</th>\n",
       "      <td>Netherlands Antilles</td>\n",
       "      <td>155837.0</td>\n",
       "      <td>2011</td>\n",
       "      <td>1265</td>\n",
       "      <td>8.117456</td>\n",
       "      <td>NaN</td>\n",
       "    </tr>\n",
       "    <tr>\n",
       "      <th>1223</th>\n",
       "      <td>Netherlands Antilles</td>\n",
       "      <td>156959.0</td>\n",
       "      <td>2012</td>\n",
       "      <td>1292</td>\n",
       "      <td>8.231449</td>\n",
       "      <td>NaN</td>\n",
       "    </tr>\n",
       "    <tr>\n",
       "      <th>1224</th>\n",
       "      <td>Netherlands Antilles</td>\n",
       "      <td>158089.0</td>\n",
       "      <td>2013</td>\n",
       "      <td>1237</td>\n",
       "      <td>7.824706</td>\n",
       "      <td>NaN</td>\n",
       "    </tr>\n",
       "    <tr>\n",
       "      <th>1225</th>\n",
       "      <td>Netherlands Antilles</td>\n",
       "      <td>159227.0</td>\n",
       "      <td>2014</td>\n",
       "      <td>1236</td>\n",
       "      <td>7.762503</td>\n",
       "      <td>NaN</td>\n",
       "    </tr>\n",
       "    <tr>\n",
       "      <th>1226</th>\n",
       "      <td>Netherlands Antilles</td>\n",
       "      <td>160373.0</td>\n",
       "      <td>2015</td>\n",
       "      <td>1302</td>\n",
       "      <td>8.118574</td>\n",
       "      <td>NaN</td>\n",
       "    </tr>\n",
       "    <tr>\n",
       "      <th>1227</th>\n",
       "      <td>Netherlands Antilles</td>\n",
       "      <td>161528.0</td>\n",
       "      <td>2016</td>\n",
       "      <td>1279</td>\n",
       "      <td>7.918132</td>\n",
       "      <td>NaN</td>\n",
       "    </tr>\n",
       "  </tbody>\n",
       "</table>\n",
       "</div>"
      ],
      "text/plain": [
       "                   Economy  Adult population  Year  \\\n",
       "885                 Kosovo         1214796.0  2006   \n",
       "886                 Kosovo         1214796.0  2007   \n",
       "887                 Kosovo         1214796.0  2008   \n",
       "888                 Kosovo         1214796.0  2009   \n",
       "889                 Kosovo         1214796.0  2010   \n",
       "890                 Kosovo         1214796.0  2011   \n",
       "891                 Kosovo         1214796.0  2012   \n",
       "892                 Kosovo         1214796.0  2013   \n",
       "893                 Kosovo         1214796.0  2014   \n",
       "894                 Kosovo         1214796.0  2015   \n",
       "895                 Kosovo         1225209.0  2016   \n",
       "896                 Kosovo         1184646.0  2017   \n",
       "897                 Kosovo         1338581.0  2018   \n",
       "898                 Kosovo         1338581.0  2019   \n",
       "899                 Kosovo         1222104.0  2020   \n",
       "1217  Netherlands Antilles          149358.0  2006   \n",
       "1218  Netherlands Antilles          150708.0  2007   \n",
       "1219  Netherlands Antilles          152161.0  2008   \n",
       "1220  Netherlands Antilles          153617.0  2009   \n",
       "1221  Netherlands Antilles          154723.0  2010   \n",
       "1222  Netherlands Antilles          155837.0  2011   \n",
       "1223  Netherlands Antilles          156959.0  2012   \n",
       "1224  Netherlands Antilles          158089.0  2013   \n",
       "1225  Netherlands Antilles          159227.0  2014   \n",
       "1226  Netherlands Antilles          160373.0  2015   \n",
       "1227  Netherlands Antilles          161528.0  2016   \n",
       "\n",
       "      Number of NEW\\nLimited Liability Companies  New business density rate  \\\n",
       "885                                          767                   0.631382   \n",
       "886                                          858                   0.706291   \n",
       "887                                          876                   0.721109   \n",
       "888                                          858                   0.706291   \n",
       "889                                          971                   0.799311   \n",
       "890                                         1106                   0.910441   \n",
       "891                                         1466                   1.206787   \n",
       "892                                         1970                   1.621671   \n",
       "893                                         2117                   1.742679   \n",
       "894                                         2539                   2.090063   \n",
       "895                                         3978                   3.246793   \n",
       "896                                         4656                   3.930288   \n",
       "897                                         5366                   4.008723   \n",
       "898                                         5586                   4.173076   \n",
       "899                                         5768                   4.719729   \n",
       "1217                                        1297                   8.683833   \n",
       "1218                                        1418                   9.408923   \n",
       "1219                                        1535                  10.087999   \n",
       "1220                                        1227                   7.987397   \n",
       "1221                                        1342                   8.673565   \n",
       "1222                                        1265                   8.117456   \n",
       "1223                                        1292                   8.231449   \n",
       "1224                                        1237                   7.824706   \n",
       "1225                                        1236                   7.762503   \n",
       "1226                                        1302                   8.118574   \n",
       "1227                                        1279                   7.918132   \n",
       "\n",
       "     ISO_code_alpha3  \n",
       "885              NaN  \n",
       "886              NaN  \n",
       "887              NaN  \n",
       "888              NaN  \n",
       "889              NaN  \n",
       "890              NaN  \n",
       "891              NaN  \n",
       "892              NaN  \n",
       "893              NaN  \n",
       "894              NaN  \n",
       "895              NaN  \n",
       "896              NaN  \n",
       "897              NaN  \n",
       "898              NaN  \n",
       "899              NaN  \n",
       "1217             NaN  \n",
       "1218             NaN  \n",
       "1219             NaN  \n",
       "1220             NaN  \n",
       "1221             NaN  \n",
       "1222             NaN  \n",
       "1223             NaN  \n",
       "1224             NaN  \n",
       "1225             NaN  \n",
       "1226             NaN  \n",
       "1227             NaN  "
      ]
     },
     "execution_count": 14,
     "metadata": {},
     "output_type": "execute_result"
    }
   ],
   "source": [
    "df[df['ISO_code_alpha3'].isna()==True]"
   ]
  },
  {
   "cell_type": "code",
   "execution_count": 15,
   "metadata": {},
   "outputs": [
    {
     "data": {
      "text/plain": [
       "Economy                                        0\n",
       "Adult population                               2\n",
       "Year                                           0\n",
       "Number of NEW\\nLimited Liability Companies     0\n",
       "New business density rate                      2\n",
       "ISO_code_alpha3                               26\n",
       "dtype: int64"
      ]
     },
     "execution_count": 15,
     "metadata": {},
     "output_type": "execute_result"
    }
   ],
   "source": [
    "df.isna().sum()"
   ]
  },
  {
   "cell_type": "code",
   "execution_count": 16,
   "metadata": {},
   "outputs": [
    {
     "data": {
      "text/html": [
       "<div>\n",
       "<style scoped>\n",
       "    .dataframe tbody tr th:only-of-type {\n",
       "        vertical-align: middle;\n",
       "    }\n",
       "\n",
       "    .dataframe tbody tr th {\n",
       "        vertical-align: top;\n",
       "    }\n",
       "\n",
       "    .dataframe thead th {\n",
       "        text-align: right;\n",
       "    }\n",
       "</style>\n",
       "<table border=\"1\" class=\"dataframe\">\n",
       "  <thead>\n",
       "    <tr style=\"text-align: right;\">\n",
       "      <th></th>\n",
       "      <th>Economy</th>\n",
       "      <th>Adult population</th>\n",
       "      <th>Year</th>\n",
       "      <th>Number of NEW\\nLimited Liability Companies</th>\n",
       "      <th>New business density rate</th>\n",
       "      <th>ISO_code_alpha3</th>\n",
       "    </tr>\n",
       "  </thead>\n",
       "  <tbody>\n",
       "    <tr>\n",
       "      <th>990</th>\n",
       "      <td>Liechtenstein</td>\n",
       "      <td>NaN</td>\n",
       "      <td>2019</td>\n",
       "      <td>313</td>\n",
       "      <td>NaN</td>\n",
       "      <td>LIE</td>\n",
       "    </tr>\n",
       "    <tr>\n",
       "      <th>991</th>\n",
       "      <td>Liechtenstein</td>\n",
       "      <td>NaN</td>\n",
       "      <td>2020</td>\n",
       "      <td>58</td>\n",
       "      <td>NaN</td>\n",
       "      <td>LIE</td>\n",
       "    </tr>\n",
       "  </tbody>\n",
       "</table>\n",
       "</div>"
      ],
      "text/plain": [
       "           Economy  Adult population  Year  \\\n",
       "990  Liechtenstein               NaN  2019   \n",
       "991  Liechtenstein               NaN  2020   \n",
       "\n",
       "     Number of NEW\\nLimited Liability Companies  New business density rate  \\\n",
       "990                                         313                        NaN   \n",
       "991                                          58                        NaN   \n",
       "\n",
       "    ISO_code_alpha3  \n",
       "990             LIE  \n",
       "991             LIE  "
      ]
     },
     "execution_count": 16,
     "metadata": {},
     "output_type": "execute_result"
    }
   ],
   "source": [
    "df[df['Adult population'].isna()==True]"
   ]
  },
  {
   "cell_type": "code",
   "execution_count": 17,
   "metadata": {},
   "outputs": [
    {
     "data": {
      "text/plain": [
       "1979"
      ]
     },
     "execution_count": 17,
     "metadata": {},
     "output_type": "execute_result"
    }
   ],
   "source": [
    "len(df)"
   ]
  },
  {
   "cell_type": "code",
   "execution_count": 18,
   "metadata": {},
   "outputs": [],
   "source": [
    "df = df.dropna(subset=['New business density rate']).dropna(subset=['ISO_code_alpha3'])"
   ]
  },
  {
   "cell_type": "code",
   "execution_count": 19,
   "metadata": {},
   "outputs": [
    {
     "data": {
      "text/plain": [
       "Economy                                       0\n",
       "Adult population                              0\n",
       "Year                                          0\n",
       "Number of NEW\\nLimited Liability Companies    0\n",
       "New business density rate                     0\n",
       "ISO_code_alpha3                               0\n",
       "dtype: int64"
      ]
     },
     "execution_count": 19,
     "metadata": {},
     "output_type": "execute_result"
    }
   ],
   "source": [
    "df.isna().sum()"
   ]
  },
  {
   "cell_type": "code",
   "execution_count": 20,
   "metadata": {},
   "outputs": [
    {
     "data": {
      "text/plain": [
       "1951"
      ]
     },
     "execution_count": 20,
     "metadata": {},
     "output_type": "execute_result"
    }
   ],
   "source": [
    "len(df)"
   ]
  },
  {
   "cell_type": "code",
   "execution_count": 21,
   "metadata": {},
   "outputs": [],
   "source": [
    "column_order = ['ISO_code_alpha3', 'Economy', 'Adult population', 'Year', 'Number of NEW\\nLimited Liability Companies', 'New business density rate']\n",
    "df = df[column_order]\n",
    "\n",
    "df.rename(columns={'Economy': 'Country', 'Number of NEW\\nLimited Liability Companies': 'Number of new Limited Liability Companies'}, inplace=True)"
   ]
  },
  {
   "cell_type": "code",
   "execution_count": 22,
   "metadata": {},
   "outputs": [],
   "source": [
    "df['Adult population'] = df['Adult population'].astype(int)\n",
    "df['Year'] = df['Year'].astype(int)\n",
    "df['Number of new Limited Liability Companies'] = df['Number of new Limited Liability Companies'].astype(int)"
   ]
  },
  {
   "cell_type": "code",
   "execution_count": 23,
   "metadata": {},
   "outputs": [],
   "source": [
    "df['New business density rate'] = df['New business density rate'].round(2)"
   ]
  },
  {
   "cell_type": "code",
   "execution_count": 24,
   "metadata": {},
   "outputs": [
    {
     "data": {
      "text/html": [
       "<div>\n",
       "<style scoped>\n",
       "    .dataframe tbody tr th:only-of-type {\n",
       "        vertical-align: middle;\n",
       "    }\n",
       "\n",
       "    .dataframe tbody tr th {\n",
       "        vertical-align: top;\n",
       "    }\n",
       "\n",
       "    .dataframe thead th {\n",
       "        text-align: right;\n",
       "    }\n",
       "</style>\n",
       "<table border=\"1\" class=\"dataframe\">\n",
       "  <thead>\n",
       "    <tr style=\"text-align: right;\">\n",
       "      <th></th>\n",
       "      <th>ISO_code_alpha3</th>\n",
       "      <th>Country</th>\n",
       "      <th>Adult population</th>\n",
       "      <th>Year</th>\n",
       "      <th>Number of new Limited Liability Companies</th>\n",
       "      <th>New business density rate</th>\n",
       "    </tr>\n",
       "  </thead>\n",
       "  <tbody>\n",
       "    <tr>\n",
       "      <th>0</th>\n",
       "      <td>AFG</td>\n",
       "      <td>Afghanistan</td>\n",
       "      <td>14039528</td>\n",
       "      <td>2009</td>\n",
       "      <td>3653</td>\n",
       "      <td>0.26</td>\n",
       "    </tr>\n",
       "    <tr>\n",
       "      <th>1</th>\n",
       "      <td>AFG</td>\n",
       "      <td>Afghanistan</td>\n",
       "      <td>14444996</td>\n",
       "      <td>2010</td>\n",
       "      <td>4759</td>\n",
       "      <td>0.33</td>\n",
       "    </tr>\n",
       "    <tr>\n",
       "      <th>2</th>\n",
       "      <td>AFG</td>\n",
       "      <td>Afghanistan</td>\n",
       "      <td>15041824</td>\n",
       "      <td>2011</td>\n",
       "      <td>3745</td>\n",
       "      <td>0.25</td>\n",
       "    </tr>\n",
       "    <tr>\n",
       "      <th>3</th>\n",
       "      <td>AFG</td>\n",
       "      <td>Afghanistan</td>\n",
       "      <td>15743958</td>\n",
       "      <td>2012</td>\n",
       "      <td>3557</td>\n",
       "      <td>0.23</td>\n",
       "    </tr>\n",
       "    <tr>\n",
       "      <th>4</th>\n",
       "      <td>AFG</td>\n",
       "      <td>Afghanistan</td>\n",
       "      <td>16519812</td>\n",
       "      <td>2013</td>\n",
       "      <td>3191</td>\n",
       "      <td>0.19</td>\n",
       "    </tr>\n",
       "  </tbody>\n",
       "</table>\n",
       "</div>"
      ],
      "text/plain": [
       "  ISO_code_alpha3      Country  Adult population  Year  \\\n",
       "0             AFG  Afghanistan          14039528  2009   \n",
       "1             AFG  Afghanistan          14444996  2010   \n",
       "2             AFG  Afghanistan          15041824  2011   \n",
       "3             AFG  Afghanistan          15743958  2012   \n",
       "4             AFG  Afghanistan          16519812  2013   \n",
       "\n",
       "   Number of new Limited Liability Companies  New business density rate  \n",
       "0                                       3653                       0.26  \n",
       "1                                       4759                       0.33  \n",
       "2                                       3745                       0.25  \n",
       "3                                       3557                       0.23  \n",
       "4                                       3191                       0.19  "
      ]
     },
     "execution_count": 24,
     "metadata": {},
     "output_type": "execute_result"
    }
   ],
   "source": [
    "df.head()"
   ]
  },
  {
   "cell_type": "code",
   "execution_count": 25,
   "metadata": {},
   "outputs": [
    {
     "data": {
      "text/plain": [
       "ISO_code_alpha3                               object\n",
       "Country                                       object\n",
       "Adult population                               int32\n",
       "Year                                           int32\n",
       "Number of new Limited Liability Companies      int32\n",
       "New business density rate                    float64\n",
       "dtype: object"
      ]
     },
     "execution_count": 25,
     "metadata": {},
     "output_type": "execute_result"
    }
   ],
   "source": [
    "df.dtypes"
   ]
  },
  {
   "cell_type": "code",
   "execution_count": 26,
   "metadata": {},
   "outputs": [],
   "source": [
    "df.insert(0, 'id', df['ISO_code_alpha3'] + '-' + df['Year'].astype(str))"
   ]
  },
  {
   "cell_type": "code",
   "execution_count": 27,
   "metadata": {},
   "outputs": [
    {
     "data": {
      "text/html": [
       "<div>\n",
       "<style scoped>\n",
       "    .dataframe tbody tr th:only-of-type {\n",
       "        vertical-align: middle;\n",
       "    }\n",
       "\n",
       "    .dataframe tbody tr th {\n",
       "        vertical-align: top;\n",
       "    }\n",
       "\n",
       "    .dataframe thead th {\n",
       "        text-align: right;\n",
       "    }\n",
       "</style>\n",
       "<table border=\"1\" class=\"dataframe\">\n",
       "  <thead>\n",
       "    <tr style=\"text-align: right;\">\n",
       "      <th></th>\n",
       "      <th>id</th>\n",
       "      <th>ISO_code_alpha3</th>\n",
       "      <th>Country</th>\n",
       "      <th>Adult population</th>\n",
       "      <th>Year</th>\n",
       "      <th>Number of new Limited Liability Companies</th>\n",
       "      <th>New business density rate</th>\n",
       "    </tr>\n",
       "  </thead>\n",
       "  <tbody>\n",
       "    <tr>\n",
       "      <th>0</th>\n",
       "      <td>AFG-2009</td>\n",
       "      <td>AFG</td>\n",
       "      <td>Afghanistan</td>\n",
       "      <td>14039528</td>\n",
       "      <td>2009</td>\n",
       "      <td>3653</td>\n",
       "      <td>0.26</td>\n",
       "    </tr>\n",
       "    <tr>\n",
       "      <th>1</th>\n",
       "      <td>AFG-2010</td>\n",
       "      <td>AFG</td>\n",
       "      <td>Afghanistan</td>\n",
       "      <td>14444996</td>\n",
       "      <td>2010</td>\n",
       "      <td>4759</td>\n",
       "      <td>0.33</td>\n",
       "    </tr>\n",
       "    <tr>\n",
       "      <th>2</th>\n",
       "      <td>AFG-2011</td>\n",
       "      <td>AFG</td>\n",
       "      <td>Afghanistan</td>\n",
       "      <td>15041824</td>\n",
       "      <td>2011</td>\n",
       "      <td>3745</td>\n",
       "      <td>0.25</td>\n",
       "    </tr>\n",
       "    <tr>\n",
       "      <th>3</th>\n",
       "      <td>AFG-2012</td>\n",
       "      <td>AFG</td>\n",
       "      <td>Afghanistan</td>\n",
       "      <td>15743958</td>\n",
       "      <td>2012</td>\n",
       "      <td>3557</td>\n",
       "      <td>0.23</td>\n",
       "    </tr>\n",
       "    <tr>\n",
       "      <th>4</th>\n",
       "      <td>AFG-2013</td>\n",
       "      <td>AFG</td>\n",
       "      <td>Afghanistan</td>\n",
       "      <td>16519812</td>\n",
       "      <td>2013</td>\n",
       "      <td>3191</td>\n",
       "      <td>0.19</td>\n",
       "    </tr>\n",
       "    <tr>\n",
       "      <th>...</th>\n",
       "      <td>...</td>\n",
       "      <td>...</td>\n",
       "      <td>...</td>\n",
       "      <td>...</td>\n",
       "      <td>...</td>\n",
       "      <td>...</td>\n",
       "      <td>...</td>\n",
       "    </tr>\n",
       "    <tr>\n",
       "      <th>1974</th>\n",
       "      <td>ZWE-2016</td>\n",
       "      <td>ZWE</td>\n",
       "      <td>Zimbabwe</td>\n",
       "      <td>7642765</td>\n",
       "      <td>2016</td>\n",
       "      <td>8124</td>\n",
       "      <td>1.06</td>\n",
       "    </tr>\n",
       "    <tr>\n",
       "      <th>1975</th>\n",
       "      <td>ZWE-2017</td>\n",
       "      <td>ZWE</td>\n",
       "      <td>Zimbabwe</td>\n",
       "      <td>7759792</td>\n",
       "      <td>2017</td>\n",
       "      <td>9518</td>\n",
       "      <td>1.23</td>\n",
       "    </tr>\n",
       "    <tr>\n",
       "      <th>1976</th>\n",
       "      <td>ZWE-2018</td>\n",
       "      <td>ZWE</td>\n",
       "      <td>Zimbabwe</td>\n",
       "      <td>7892169</td>\n",
       "      <td>2018</td>\n",
       "      <td>16810</td>\n",
       "      <td>2.13</td>\n",
       "    </tr>\n",
       "    <tr>\n",
       "      <th>1977</th>\n",
       "      <td>ZWE-2019</td>\n",
       "      <td>ZWE</td>\n",
       "      <td>Zimbabwe</td>\n",
       "      <td>8034692</td>\n",
       "      <td>2019</td>\n",
       "      <td>25028</td>\n",
       "      <td>3.11</td>\n",
       "    </tr>\n",
       "    <tr>\n",
       "      <th>1978</th>\n",
       "      <td>ZWE-2020</td>\n",
       "      <td>ZWE</td>\n",
       "      <td>Zimbabwe</td>\n",
       "      <td>8185716</td>\n",
       "      <td>2020</td>\n",
       "      <td>20273</td>\n",
       "      <td>2.48</td>\n",
       "    </tr>\n",
       "  </tbody>\n",
       "</table>\n",
       "<p>1951 rows × 7 columns</p>\n",
       "</div>"
      ],
      "text/plain": [
       "            id ISO_code_alpha3      Country  Adult population  Year  \\\n",
       "0     AFG-2009             AFG  Afghanistan          14039528  2009   \n",
       "1     AFG-2010             AFG  Afghanistan          14444996  2010   \n",
       "2     AFG-2011             AFG  Afghanistan          15041824  2011   \n",
       "3     AFG-2012             AFG  Afghanistan          15743958  2012   \n",
       "4     AFG-2013             AFG  Afghanistan          16519812  2013   \n",
       "...        ...             ...          ...               ...   ...   \n",
       "1974  ZWE-2016             ZWE     Zimbabwe           7642765  2016   \n",
       "1975  ZWE-2017             ZWE     Zimbabwe           7759792  2017   \n",
       "1976  ZWE-2018             ZWE     Zimbabwe           7892169  2018   \n",
       "1977  ZWE-2019             ZWE     Zimbabwe           8034692  2019   \n",
       "1978  ZWE-2020             ZWE     Zimbabwe           8185716  2020   \n",
       "\n",
       "      Number of new Limited Liability Companies  New business density rate  \n",
       "0                                          3653                       0.26  \n",
       "1                                          4759                       0.33  \n",
       "2                                          3745                       0.25  \n",
       "3                                          3557                       0.23  \n",
       "4                                          3191                       0.19  \n",
       "...                                         ...                        ...  \n",
       "1974                                       8124                       1.06  \n",
       "1975                                       9518                       1.23  \n",
       "1976                                      16810                       2.13  \n",
       "1977                                      25028                       3.11  \n",
       "1978                                      20273                       2.48  \n",
       "\n",
       "[1951 rows x 7 columns]"
      ]
     },
     "execution_count": 27,
     "metadata": {},
     "output_type": "execute_result"
    }
   ],
   "source": [
    "df"
   ]
  },
  {
   "cell_type": "code",
   "execution_count": 28,
   "metadata": {},
   "outputs": [],
   "source": [
    "df.to_csv('prepared_ worldbank_new_firms_historical_data_1.csv', index=False)"
   ]
  }
 ],
 "metadata": {
  "kernelspec": {
   "display_name": "base",
   "language": "python",
   "name": "python3"
  },
  "language_info": {
   "codemirror_mode": {
    "name": "ipython",
    "version": 3
   },
   "file_extension": ".py",
   "mimetype": "text/x-python",
   "name": "python",
   "nbconvert_exporter": "python",
   "pygments_lexer": "ipython3",
   "version": "3.11.3"
  },
  "orig_nbformat": 4
 },
 "nbformat": 4,
 "nbformat_minor": 2
}
