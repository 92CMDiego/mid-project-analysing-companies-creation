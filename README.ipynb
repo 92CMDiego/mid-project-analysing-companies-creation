{
 "cells": [
  {
   "cell_type": "markdown",
   "metadata": {},
   "source": [
    "# Midbootcamp project | Analysing companies creation per country."
   ]
  },
  {
   "cell_type": "markdown",
   "metadata": {},
   "source": [
    "##### 1. Motivation.\n",
    "\n",
    "The main idea of this exercise is to analyse a dataset that contains the number of new LLC's created per country per year. The analysis covers the period from 2006 to 2020 and includes data for 163 countries. We would like to:\n",
    "- See if we can relate this figures to some other variables.\n",
    "- Obtain insights about the data and the possible relationships.\n"
   ]
  },
  {
   "cell_type": "markdown",
   "metadata": {},
   "source": [
    "##### 2. Sources.\n",
    "\n",
    "- Dataset of new LLCs created per country per year. Worldbank. (https://www.worldbank.org/en/programs/entrepreneurship).\n",
    "- Dataset of Economic freedom index. Heritage foundation. (https://www.heritage.org/index/explore?view=by-region-country-year).\n",
    "- Dataset of Corporate tax. Tax Foundation. (https://taxfoundation.org/data/all/global/corporate-tax-rates-by-country-2022/).\n",
    "- Dataset of Corporate tax. OECD. (https://stats.oecd.org/Index.aspx?DataSetCode=CTS_CIT#).\n",
    "- Dataset of Global innovation index. Worldbank. (https://tcdata360.worldbank.org/indicators/3aa2eb70?country=BRA&indicator=40712&viz=line_chart&years=2013,2020).\n",
    "- Dataset of median age of the population. Our world in data (obtained from UN). (https://ourworldindata.org/grapher/median-age)."
   ]
  },
  {
   "cell_type": "markdown",
   "metadata": {},
   "source": [
    "##### 3. Datasets preparation.\n",
    "\n",
    "The files with the raw files and the code used for preparation are in the folder 'Datasets preparation'.\n",
    "\n",
    "The process was done separately for each dataset, as the original files come from different sources and the format is different.\n",
    "- The datasets are formatted so that each row represents the register of a year for an individual country.\n",
    "- A column with the iso code of the country (alpha3) is introduced. We used pycountry library for this.\n",
    "- An \"id\" column is introduced to uniquely identify each row. It is formed by the combination of the country code and the year of the register (for example: \"ESP-2006\").\n",
    "\n",
    "As the datasets contain historical information and cover large lists of countries, all of the files contained missing data (represented with nan values). The majority of these values are not replaced nor this rows eliminated (we keep most of the information of the source). We do remove some other 'nan' values during the analysis.\n",
    "\n",
    "We find the largest amount of nan values in the following columns of the Economic freedom index dataset (this is due to the fact that these metrics were not computed until 2017):\n",
    "- Judicial Effectiveness (and therefore the category to which this metric belongs, Rule of Law). Rule of Law category is added later in the file 'main' (we dind't have this column in the data from the source).\n",
    "- Fiscal Health (and therefore the category to which this metric belongs, Government Size). Government size category is added later in the file 'main' (we dind't have this column in the data from the source). \n",
    "\n",
    "All of these tables are transferred to a MySQL Workbench schema (named nbc)."
   ]
  },
  {
   "cell_type": "markdown",
   "metadata": {},
   "source": [
    "##### 4. Main file.\n",
    "\n",
    "We created a dataframe that would serve as a basis for the analysis. We start with:\n",
    "- Dataframe of new LLCs created per country per year.\n",
    "\n",
    "Throughout the process, we added the information that we think could potentially be valuable for the analysis:\n",
    "- Economic freedom index.\n",
    "- Corporate tax (source: Tax foundation).\n",
    "- Corporate tax (source: OECD).\n",
    "- Global innovation index.\n",
    "- Mean age of the population.\n",
    "\n",
    "**Columns of the dataframe 'main'**:\n",
    "- id.\n",
    "- ISO_code_alpha3.\n",
    "- Country.\n",
    "- Adult population. Working age population (15-64) of the country.\n",
    "- Year.\n",
    "- Number of new Limited Liablity Companies.\n",
    "- New business density rate. The number of companies created in the country for that year per 1,000 inhabitants.\n",
    "- Economic freedom index. Economic freedom index overall score.\n",
    "- Columns 9-20. 12 subcategories of the economic freedom index.\n",
    "- Columns 21-24. 4 main categories (formed with the 12 subcategories) of the economic freedom index.\n",
    "- Corporate tax (Tax Foundation).\n",
    "- Corporate tax (OECD).\n",
    "- Global innovation index. Global innovation index score.\n",
    "- Median age. Median age of the population in the country for each year.\n"
   ]
  },
  {
   "cell_type": "markdown",
   "metadata": {},
   "source": [
    "##### 5. Analysing.\n",
    "\n",
    "The dataframe 'main' serves as a basis for the analysis.\n",
    "\n",
    "'Analysis_correlation_and_overall_check' file. Our null hypothesis is that the correlation between the new business density rate and the economic freedom index overall score is smaller tha 0.5. For this step, we do not need to deal with the nan values, as .corr() function is not affected by this.\n",
    "- We find a correlation larger than 0.6.\n",
    "\n",
    "'Creating_combined_score'. For the analysis, we decided to create a combined score of two metrics: new business density rate and economic freedom index overall score. We create a new dataframe that contains the following information:\n",
    "- Average new business density rate per country.\n",
    "- Average economic freedom index per country.\n",
    "- Average new business density rate per country (scaled using MinMaxScaler).\n",
    "- Average economic freedom index per country (scaled using MinMaxScaler).\n",
    "- Combined score of the two metrics (average wieghted score of the two metrics). Both metrics are equally weighted.\n",
    "\n",
    "There are other files used for analysis and obtaining insights."
   ]
  },
  {
   "cell_type": "markdown",
   "metadata": {},
   "source": [
    "##### 6. Insights.\n",
    "\n",
    "The main insights are summarized in the presentation file (pr_midpr_v1)."
   ]
  }
 ],
 "metadata": {
  "language_info": {
   "name": "python"
  },
  "orig_nbformat": 4
 },
 "nbformat": 4,
 "nbformat_minor": 2
}
